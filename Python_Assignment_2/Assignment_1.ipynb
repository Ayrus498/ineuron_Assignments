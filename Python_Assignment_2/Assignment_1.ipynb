{
 "metadata": {
  "language_info": {
   "codemirror_mode": {
    "name": "ipython",
    "version": 3
   },
   "file_extension": ".py",
   "mimetype": "text/x-python",
   "name": "python",
   "nbconvert_exporter": "python",
   "pygments_lexer": "ipython3",
   "version": "3.9.5"
  },
  "orig_nbformat": 4,
  "kernelspec": {
   "name": "python3",
   "display_name": "Python 3.9.5 64-bit"
  },
  "interpreter": {
   "hash": "56ae35c9d73059d1586df60f2c8d27c5282ae80d63a192bd598e70bb440edf42"
  }
 },
 "nbformat": 4,
 "nbformat_minor": 2,
 "cells": [
  {
   "cell_type": "code",
   "execution_count": 1,
   "metadata": {},
   "outputs": [
    {
     "output_type": "stream",
     "name": "stdout",
     "text": [
      "\n* \n* * \n* * * \n* * * * \n* * * * * \n* * * * \n* * * \n* * \n* \n\n\n"
     ]
    }
   ],
   "source": [
    "Val=6\n",
    "\n",
    "for i in range(1,Val+1):\t\n",
    "\tfor j in range(1,i):\n",
    "\t\tprint(\"*\", end =\" \")\n",
    "\tprint(\"\")\n",
    "\n",
    "for i in range(Val-1,-1,-1):\t\n",
    "\tfor j in range(1,i):\n",
    "\t\tprint(\"*\", end =\" \")\n",
    "\tprint(\"\")"
   ]
  },
  {
   "cell_type": "code",
   "execution_count": null,
   "metadata": {},
   "outputs": [],
   "source": []
  }
 ]
}